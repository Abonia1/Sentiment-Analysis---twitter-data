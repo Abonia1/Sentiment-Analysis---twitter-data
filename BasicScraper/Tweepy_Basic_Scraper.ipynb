{
 "cells": [
  {
   "cell_type": "markdown",
   "metadata": {
    "colab_type": "text",
    "id": "xh92xbMkLy28"
   },
   "source": [
    "# Scraper for Twitter using Tweepy\n",
    "\n",
    "Package Github: https://github.com/tweepy/tweepy\n",
    "\n",
    "Package Documentation: https://tweepy.readthedocs.io/en/latest/"
   ]
  },
  {
   "cell_type": "code",
   "execution_count": 10,
   "metadata": {
    "colab": {
     "base_uri": "https://localhost:8080/",
     "height": 213
    },
    "colab_type": "code",
    "id": "90OU2SDJL2Q9",
    "outputId": "89d239d4-dc97-43c7-fff0-cbbe793bf094"
   },
   "outputs": [],
   "source": [
    "# Pip install Tweepy if you don't already have the package\n",
    "# !pip install tweepy\n",
    "\n",
    "# Imports\n",
    "import tweepy\n",
    "import pandas as pd\n",
    "import time"
   ]
  },
  {
   "cell_type": "markdown",
   "metadata": {
    "colab_type": "text",
    "id": "5q3dtxauP0KR"
   },
   "source": [
    "## Credentials and Authorization"
   ]
  },
  {
   "cell_type": "code",
   "execution_count": 11,
   "metadata": {
    "colab": {},
    "colab_type": "code",
    "id": "4NcOQy9XM5hR"
   },
   "outputs": [],
   "source": [
    "# Credentials\n",
    "consumer_key = \"XXXXXXXXXXXXXXXXXXXXXXXXXXXX\"\n",
    "consumer_secret = \"XXXXXXXXXXXXXXXXXXXXXXXXXXXX\"\n",
    "#bearer_token = \"XXXXXXXXXXXXXXXXXXXXXXXXXXXX\"\n",
    "access_token = \"XXXXXXXXXXXXXXXXXXXXXXXXXXXX\"\n",
    "access_token_secret = \"XXXXXXXXXXXXXXXXXXXXXXXXXXXX\"\n",
    "\n",
    "consumer_key = \"nhub99SkLvQ89wtrHIM7CERCH\"\n",
    "consumer_secret = \"wSKrzi3ykp67DKWr1PMViGbe4hBwVQLmbeLLAESxiBBp0CjHUA\"\n",
    "access_token = \"1719844561-iU4u5vVJKGjxsGI8iSoBG54F5EVTK0dUWqh5fvU\"\n",
    "access_token_secret = \"zx2SdV6CxhZRaTMfUFMZikHlO6jrUnEjZoU5JtfBY4M69\"\n",
    "\n",
    "auth = tweepy.OAuthHandler(consumer_key, consumer_secret)\n",
    "auth.set_access_token(access_token, access_token_secret)\n",
    "api = tweepy.API(auth,wait_on_rate_limit=True)"
   ]
  },
  {
   "cell_type": "markdown",
   "metadata": {
    "colab_type": "text",
    "id": "LvBbNQXgM3QI"
   },
   "source": [
    "## Query by Username\n",
    "Creation of queries using Tweepy API\n",
    "\n",
    "Function is focused on completing the query then providing a CSV file of that query using pandas"
   ]
  },
  {
   "cell_type": "code",
   "execution_count": 3,
   "metadata": {
    "colab": {},
    "colab_type": "code",
    "id": "fguMqU2ifc5h"
   },
   "outputs": [],
   "source": [
    "tweets = []\n",
    "\n",
    "def username_tweets_to_csv(brand,count):\n",
    "    try:      \n",
    "        # Creation of query method using parameters\n",
    "        tweets = tweepy.Cursor(api.user_timeline,id=brand).items(count)\n",
    "\n",
    "        # Pulling information from tweets iterable object\n",
    "        tweets_list = [[tweet.created_at, tweet.id, tweet.text] for tweet in tweets]\n",
    "\n",
    "        # Creation of dataframe from tweets list\n",
    "        # Add or remove columns as you remove tweet information\n",
    "        tweets_df = pd.DataFrame(tweets_list,columns=['Datetime', 'Tweet Id', 'Text'])\n",
    "\n",
    "        # Converting dataframe to CSV \n",
    "        tweets_df.to_csv('{}-tweets.csv'.format(brand), sep=',', index = False)\n",
    "\n",
    "    except BaseException as e:\n",
    "          print('failed on_status,',str(e))\n",
    "          time.sleep(3)"
   ]
  },
  {
   "cell_type": "code",
   "execution_count": 9,
   "metadata": {},
   "outputs": [
    {
     "name": "stderr",
     "output_type": "stream",
     "text": [
      "Unexpected parameter: id\n",
      "Unexpected parameter: id\n",
      "Unexpected parameter: id\n",
      "Unexpected parameter: id\n",
      "Unexpected parameter: id\n",
      "Unexpected parameter: id\n",
      "Unexpected parameter: id\n",
      "Unexpected parameter: id\n",
      "Unexpected parameter: id\n",
      "Unexpected parameter: id\n",
      "Unexpected parameter: id\n",
      "Unexpected parameter: id\n",
      "Unexpected parameter: id\n",
      "Unexpected parameter: id\n",
      "Unexpected parameter: id\n",
      "Unexpected parameter: id\n",
      "Unexpected parameter: id\n",
      "Unexpected parameter: id\n",
      "Unexpected parameter: id\n",
      "Unexpected parameter: id\n",
      "Unexpected parameter: id\n",
      "Unexpected parameter: id\n",
      "Unexpected parameter: id\n",
      "Unexpected parameter: id\n",
      "Unexpected parameter: id\n",
      "Unexpected parameter: id\n",
      "Unexpected parameter: id\n",
      "Unexpected parameter: id\n",
      "Unexpected parameter: id\n",
      "Unexpected parameter: id\n",
      "Unexpected parameter: id\n",
      "Unexpected parameter: id\n",
      "Unexpected parameter: id\n",
      "Unexpected parameter: id\n",
      "Unexpected parameter: id\n",
      "Unexpected parameter: id\n",
      "Unexpected parameter: id\n",
      "Unexpected parameter: id\n",
      "Unexpected parameter: id\n",
      "Unexpected parameter: id\n",
      "Unexpected parameter: id\n",
      "Unexpected parameter: id\n",
      "Unexpected parameter: id\n",
      "Unexpected parameter: id\n",
      "Unexpected parameter: id\n",
      "Unexpected parameter: id\n",
      "Unexpected parameter: id\n",
      "Unexpected parameter: id\n",
      "Unexpected parameter: id\n",
      "Unexpected parameter: id\n",
      "Unexpected parameter: id\n",
      "Unexpected parameter: id\n",
      "Unexpected parameter: id\n",
      "Unexpected parameter: id\n",
      "Unexpected parameter: id\n",
      "Unexpected parameter: id\n",
      "Unexpected parameter: id\n",
      "Unexpected parameter: id\n",
      "Unexpected parameter: id\n",
      "Unexpected parameter: id\n",
      "Unexpected parameter: id\n",
      "Unexpected parameter: id\n",
      "Unexpected parameter: id\n",
      "Unexpected parameter: id\n",
      "Unexpected parameter: id\n",
      "Unexpected parameter: id\n",
      "Unexpected parameter: id\n",
      "Unexpected parameter: id\n",
      "Unexpected parameter: id\n",
      "Unexpected parameter: id\n",
      "Unexpected parameter: id\n",
      "Unexpected parameter: id\n",
      "Unexpected parameter: id\n",
      "Unexpected parameter: id\n",
      "Unexpected parameter: id\n",
      "Unexpected parameter: id\n",
      "Unexpected parameter: id\n",
      "Unexpected parameter: id\n",
      "Unexpected parameter: id\n",
      "Unexpected parameter: id\n",
      "Unexpected parameter: id\n",
      "Unexpected parameter: id\n",
      "Unexpected parameter: id\n",
      "Unexpected parameter: id\n",
      "Unexpected parameter: id\n",
      "Unexpected parameter: id\n",
      "Unexpected parameter: id\n",
      "Unexpected parameter: id\n",
      "Unexpected parameter: id\n",
      "Unexpected parameter: id\n",
      "Unexpected parameter: id\n",
      "Unexpected parameter: id\n",
      "Unexpected parameter: id\n",
      "Unexpected parameter: id\n",
      "Unexpected parameter: id\n",
      "Unexpected parameter: id\n",
      "Unexpected parameter: id\n",
      "Unexpected parameter: id\n",
      "Unexpected parameter: id\n",
      "Unexpected parameter: id\n",
      "Unexpected parameter: id\n",
      "Unexpected parameter: id\n",
      "Unexpected parameter: id\n",
      "Unexpected parameter: id\n",
      "Unexpected parameter: id\n",
      "Unexpected parameter: id\n",
      "Unexpected parameter: id\n",
      "Unexpected parameter: id\n",
      "Unexpected parameter: id\n",
      "Unexpected parameter: id\n",
      "Unexpected parameter: id\n",
      "Unexpected parameter: id\n",
      "Unexpected parameter: id\n",
      "Unexpected parameter: id\n",
      "Unexpected parameter: id\n",
      "Unexpected parameter: id\n",
      "Unexpected parameter: id\n",
      "Unexpected parameter: id\n",
      "Unexpected parameter: id\n",
      "Unexpected parameter: id\n",
      "Unexpected parameter: id\n",
      "Unexpected parameter: id\n",
      "Unexpected parameter: id\n",
      "Unexpected parameter: id\n",
      "Unexpected parameter: id\n",
      "Unexpected parameter: id\n",
      "Unexpected parameter: id\n",
      "Unexpected parameter: id\n",
      "Unexpected parameter: id\n",
      "Unexpected parameter: id\n",
      "Unexpected parameter: id\n",
      "Unexpected parameter: id\n",
      "Unexpected parameter: id\n",
      "Unexpected parameter: id\n",
      "Unexpected parameter: id\n",
      "Unexpected parameter: id\n",
      "Unexpected parameter: id\n",
      "Unexpected parameter: id\n",
      "Unexpected parameter: id\n",
      "Unexpected parameter: id\n",
      "Unexpected parameter: id\n",
      "Unexpected parameter: id\n",
      "Unexpected parameter: id\n",
      "Unexpected parameter: id\n",
      "Unexpected parameter: id\n",
      "Unexpected parameter: id\n",
      "Unexpected parameter: id\n",
      "Unexpected parameter: id\n",
      "Unexpected parameter: id\n",
      "Unexpected parameter: id\n",
      "Unexpected parameter: id\n",
      "Unexpected parameter: id\n",
      "Unexpected parameter: id\n",
      "Unexpected parameter: id\n",
      "Unexpected parameter: id\n",
      "Unexpected parameter: id\n",
      "Unexpected parameter: id\n",
      "Unexpected parameter: id\n",
      "Unexpected parameter: id\n",
      "Unexpected parameter: id\n",
      "Unexpected parameter: id\n",
      "Unexpected parameter: id\n",
      "Unexpected parameter: id\n",
      "Unexpected parameter: id\n"
     ]
    }
   ],
   "source": [
    "# Input brand to scrape tweets and name csv file\n",
    "# Max recent tweets pulls x amount of most recent tweets from that user\n",
    "#brand = 'Google'\n",
    "brand = 'google'\n",
    "count = 5000\n",
    "\n",
    "# Calling function to turn username's past X amount of tweets into a CSV file\n",
    "username_tweets_to_csv(brand, count)"
   ]
  },
  {
   "cell_type": "markdown",
   "metadata": {
    "colab_type": "text",
    "id": "jFe9EonmM6u9"
   },
   "source": [
    "## Query by Text Search\n",
    "Function is focused on completing the query then providing a CSV file of that query using pandas"
   ]
  },
  {
   "cell_type": "code",
   "execution_count": 7,
   "metadata": {
    "colab": {},
    "colab_type": "code",
    "id": "1hOeCFq6M83k"
   },
   "outputs": [],
   "source": [
    "tweets = []\n",
    "\n",
    "def text_query_to_csv(text_query,count):\n",
    "    try:\n",
    "        # Creation of query method using parameters\n",
    "        tweets = tweepy.Cursor(api.search,q=text_query).items(count)\n",
    "\n",
    "        # Pulling information from tweets iterable object\n",
    "        tweets_list = [[tweet.created_at, tweet.id, tweet.text] for tweet in tweets]\n",
    "\n",
    "        # Creation of dataframe from tweets list\n",
    "        # Add or remove columns as you remove tweet information\n",
    "        tweets_df = pd.DataFrame(tweets_list,columns=['Datetime', 'Tweet Id', 'Text'])\n",
    "\n",
    "        # Converting dataframe to CSV \n",
    "        tweets_df.to_csv('{}-tweets.csv'.format(text_query), sep=',', index = False)\n",
    "\n",
    "    except BaseException as e:\n",
    "        print('failed on_status,',str(e))\n",
    "        time.sleep(3)"
   ]
  },
  {
   "cell_type": "code",
   "execution_count": 8,
   "metadata": {},
   "outputs": [],
   "source": [
    "# Input search query to scrape tweets and name csv file\n",
    "# Max recent tweets pulls x amount of most recent tweets from that user\n",
    "text_query = 'Google'\n",
    "count = 150\n",
    "\n",
    "# Calling function to query X amount of relevant tweets and create a CSV file\n",
    "text_query_to_csv(text_query, count)"
   ]
  },
  {
   "cell_type": "markdown",
   "metadata": {},
   "source": [
    "## Search Tweets in Specific Language"
   ]
  },
  {
   "cell_type": "code",
   "execution_count": 22,
   "metadata": {},
   "outputs": [],
   "source": [
    "tweets = []\n",
    "\n",
    "def tweets_search_to_csv(brand,count,lang_code):\n",
    "    try:      \n",
    "        # Creation of query method using parameters\n",
    "        tweets = tweepy.Cursor(api.search_tweets,q=brand, lang=lang_code).items(count)\n",
    "        # Search Query change the X of .items(X) to the amount of tweets you are looking for\n",
    "        #for tweet in api.search_tweets(q='Google',tweet_mode='extended', lang='fr'):\n",
    "        # Defining Tweets Creators Name\n",
    "        #tweettext = str( tweet.full_text.lower().encode('ascii',errors='ignore')) #encoding to get rid of characters that may not be able to be displayed\n",
    "        # Defining Tweets Id\n",
    "        #tweetid = tweet.id\n",
    "\n",
    "        # Pulling information from tweets iterable object\n",
    "        tweets_list = [[tweet.created_at, tweet.id, tweet.text] for tweet in tweets]\n",
    "\n",
    "        # Creation of dataframe from tweets list\n",
    "        # Add or remove columns as you remove tweet information\n",
    "        tweets_df = pd.DataFrame(tweets_list,columns=['Datetime', 'Tweet Id', 'Text'])\n",
    "\n",
    "        # Converting dataframe to CSV \n",
    "        tweets_df.to_csv('{}-{}-tweets.csv'.format(brand, lang_code), sep=',', index = False)\n",
    "\n",
    "    except BaseException as e:\n",
    "          print('failed on_status,',str(e))\n",
    "          time.sleep(3)"
   ]
  },
  {
   "cell_type": "code",
   "execution_count": 21,
   "metadata": {},
   "outputs": [
    {
     "name": "stderr",
     "output_type": "stream",
     "text": [
      "Rate limit reached. Sleeping for: 833\n"
     ]
    }
   ],
   "source": [
    "# Input search query to scrape tweets and name csv file\n",
    "# Max recent tweets pulls x amount of most recent tweets from that user\n",
    "text_query = 'Google'\n",
    "count = 5000\n",
    "lang_code = 'fr'\n",
    "\n",
    "# Calling function to query X amount of relevant tweets and create a CSV file\n",
    "tweets_search_to_csv(text_query, count, lang_code)"
   ]
  },
  {
   "cell_type": "code",
   "execution_count": 23,
   "metadata": {},
   "outputs": [
    {
     "name": "stderr",
     "output_type": "stream",
     "text": [
      "Rate limit reached. Sleeping for: 831\n"
     ]
    }
   ],
   "source": [
    "text_query = 'Google'\n",
    "count = 5000\n",
    "lang_code = 'en'\n",
    "\n",
    "tweets_search_to_csv(text_query, count, lang_code)"
   ]
  },
  {
   "cell_type": "code",
   "execution_count": null,
   "metadata": {},
   "outputs": [],
   "source": []
  }
 ],
 "metadata": {
  "colab": {
   "collapsed_sections": [],
   "name": "Tweepy Twitter Scraper",
   "provenance": []
  },
  "kernelspec": {
   "display_name": "Python 3",
   "language": "python",
   "name": "python3"
  },
  "language_info": {
   "codemirror_mode": {
    "name": "ipython",
    "version": 3
   },
   "file_extension": ".py",
   "mimetype": "text/x-python",
   "name": "python",
   "nbconvert_exporter": "python",
   "pygments_lexer": "ipython3",
   "version": "3.8.8"
  }
 },
 "nbformat": 4,
 "nbformat_minor": 1
}
